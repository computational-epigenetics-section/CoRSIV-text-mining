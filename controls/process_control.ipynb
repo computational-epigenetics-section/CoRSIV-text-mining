{
 "cells": [
  {
   "cell_type": "code",
   "execution_count": 1,
   "metadata": {},
   "outputs": [],
   "source": [
    "\"\"\"\n",
    "Author: Wen-Jou Chang\n",
    "Baylor College of Medicine\n",
    "\n",
    "This script pre- and post-processes CoRSIVs and control regions.\n",
    "\"\"\"\n",
    "\n",
    "import os\n",
    "import pandas as pd\n",
    "import matplotlib.pyplot as plt\n",
    "from pybedtools import BedTool\n",
    "import random\n",
    "\n"
   ]
  },
  {
   "cell_type": "code",
   "execution_count": null,
   "metadata": {},
   "outputs": [],
   "source": [
    "# get unique combinations of CoRSIV metrics for input to sample from control lookup table\n",
    "df = pd.read_csv(\"annotated_corsiv_all.csv\") # annotated list of CoRSIs, can be obtained from CoRSIV_annotation.ipynb\n",
    "\n",
    "columns_to_group_by = ['chr', 'CpG_count',\n",
    "       'block_size', 'tss_count', 'Gene_body_count', 'tes_count',\n",
    "       'Union Count']\n",
    "\n",
    "unique_combinations = df.groupby(columns_to_group_by).size().reset_index(name='count')\n",
    "sorted_combinations = unique_combinations.sort_values(by='count', ascending=False)\n",
    "sorted_combinations.to_csv(\"corsiv_table_unique.csv\", index=0)"
   ]
  },
  {
   "cell_type": "code",
   "execution_count": null,
   "metadata": {},
   "outputs": [],
   "source": [
    "# read and cleanup corsivs\n",
    "corsivs = pd.read_csv(\"annotated_corsiv_all.csv\")\n",
    "corsivs = corsivs.drop(corsivs.columns[4], axis=1)\n",
    "corsivs.columns = ['CoRSIV_ID', 'CoRSIV_chr', 'CoRSIV_start', 'CoRSIV_end', 'CoRSIV_CpG_count',\n",
    "       'CoRSIV_block_size', 'CoRSIV_tss_count', 'CoRSIV_gb_count', 'CoRSIV_tes_count',\n",
    "       'CoRSIV_probe_count']\n",
    "# read and cleanup controls candidates\n",
    "control_candidates = pd.read_csv(\"../control/control_candidates.csv\")\n",
    "control_candidates = control_candidates.drop(control_candidates.columns[[9, 10, 12, 13, 15, 16]], axis=1) #, 15, 16\n",
    "control_candidates[\"ID\"] = control_candidates[\"ID\"].apply(eval)\n",
    "control_candidates.columns = ['Region ID', 'control_chr', 'control_start', 'control_end', 'control_block_size', 'control_CpG_count',\n",
    "       'control_tss_count', 'control_gb_count', 'control_tes_count', 'control_probe_count', 'ID']\n",
    "control_candidates[\"Control_ID\"] = pd.NA\n",
    "#  make ID column for annotated_corsiv_all\n",
    "corsivs[\"ID\"] = corsivs.apply(lambda row: (row['CoRSIV_CpG_count'], row['CoRSIV_tss_count'], row['CoRSIV_gb_count'], row['CoRSIV_tes_count'], row['CoRSIV_probe_count']), axis=1)\n",
    "# groupby chr, blocksize, ID\n",
    "grouped = corsivs.groupby(by=['CoRSIV_chr', \"CoRSIV_block_size\", \"ID\"])\n",
    "for (group_chr, group_bp, group_id), group in grouped:\n",
    "    # expand each group's corsiv id list into 10 times _1, _2, ..., _10\n",
    "    num_corsiv = len(group)\n",
    "    curr_corsiv_id = list(group[\"CoRSIV_ID\"])\n",
    "    control_ids = [f\"{item}_{i}\" for item in curr_corsiv_id for i in range(1, 11)]\n",
    "    random.shuffle(control_ids)\n",
    "    # find controls with corresponding chr, blocksize, ID and issue permuted control id to it\n",
    "    matching_idx = control_candidates[(control_candidates[\"control_chr\"] == group_chr) &\n",
    "                                      (control_candidates[\"control_block_size\"] == group_bp) &\n",
    "                                      (control_candidates[\"ID\"] == group_id)].index\n",
    "    control_candidates.loc[matching_idx, 'Control_ID'] = control_ids\n",
    "control_candidates[\"CoRSIV_ID\"] = control_candidates[\"Control_ID\"].apply(lambda row: \"_\".join(row.split(\"_\")[:-1]))\n",
    "control_candidates1 = control_candidates.drop(control_candidates.columns[0], axis=1)\n",
    "final_df = pd.merge(control_candidates1, corsivs, on=[\"CoRSIV_ID\",\"ID\"], how=\"outer\")\n",
    "target = final_df.pop('Control_ID')\n",
    "final_df.insert(0, 'Control_ID', target)\n",
    "final_df.to_csv(\"../control/corsiv_control_matching.csv\", index=0) # matches control regions to CoRSIVs\n"
   ]
  },
  {
   "cell_type": "code",
   "execution_count": 20,
   "metadata": {},
   "outputs": [],
   "source": [
    "# clean up a little\n",
    "df = pd.read_csv(\"../control/corsiv_control_matching.csv\")\n",
    "df.drop(columns=['ID'], inplace=True)\n",
    "df['sort_key'] = df['Control_ID'].apply(lambda x: (int(x.split('_')[0]), int(x.split('_')[1]), int(x.split('_')[-1])))\n",
    "df.sort_values(by='sort_key', inplace=True, ignore_index=True)\n",
    "df.drop('sort_key', axis=1, inplace=True)\n",
    "df.to_csv(\"../control/corsiv_control_matching.csv\", index=0)\n",
    "\n",
    "# export bed files for all 10 sets of control regions\n",
    "df = pd.read_csv(\"../control/corsiv_control_matching.csv\")\n",
    "df[[\"control_chr\", \"control_start\", \"control_end\", \"Control_ID\"]].to_csv(\"../control/control_candidates.bed\", sep=\"\\t\", header=0, index=0)"
   ]
  },
  {
   "cell_type": "code",
   "execution_count": null,
   "metadata": {},
   "outputs": [],
   "source": [
    "# split control candidates into 10 sets\n",
    "df = pd.read_csv(\"../control/control_candidates.bed\", sep=\"\\t\", names=[\"chr\", \"start\", \"end\", \"id\"])\n",
    "df['suffix'] = df['id'].apply(lambda x: x.split('_')[-1])\n",
    "\n",
    "dfs = {}\n",
    "\n",
    "# Split the DataFrame based on the suffix and store them in the dictionary\n",
    "for i in range(1, 11):\n",
    "    suffix = str(i)\n",
    "    dfs[suffix] = df[df['suffix'] == suffix]\n",
    "\n",
    "for suffix, data in dfs.items():\n",
    "    data[[\"chr\", \"start\", \"end\", \"id\"]].to_csv(f\"../control/control_candidates_{suffix}.bed\", index=False, sep=\"\\t\", header=0)\n"
   ]
  }
 ],
 "metadata": {
  "kernelspec": {
   "display_name": "base",
   "language": "python",
   "name": "python3"
  },
  "language_info": {
   "codemirror_mode": {
    "name": "ipython",
    "version": 3
   },
   "file_extension": ".py",
   "mimetype": "text/x-python",
   "name": "python",
   "nbconvert_exporter": "python",
   "pygments_lexer": "ipython3",
   "version": "3.11.0"
  }
 },
 "nbformat": 4,
 "nbformat_minor": 2
}
